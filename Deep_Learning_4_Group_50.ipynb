{
 "cells": [
  {
   "cell_type": "markdown",
   "metadata": {
    "id": "aJ_pmgxvGur9"
   },
   "source": [
    "## Graph Convolutional Networks"
   ]
  },
  {
   "cell_type": "markdown",
   "metadata": {
    "id": "tsdc7fDp40rQ"
   },
   "source": [
    "### Introduction\n",
    "\n",
    "Graphs are very useful data structures that allow us to represent sets of entities and the way they are related among each other. In a graph, entities are also known as *nodes*, and any link between entities is also called an *edge*.\n",
    "\n",
    "Examples of real world objects that can be modeled as graphs are social networks, where entities are people and relations denote friendship; and molecules, where entities are atoms and relations indicate a bond between them.\n",
    "\n",
    "There has been increased interest in the recent years in the application of deep learning architectures to graph-structured data, for tasks like predicting missing relations between entities, classifying entities, and classifying graphs. This interest has been spurred by the introduction of Graph Convolutional Networks (GCNs).\n",
    "\n",
    "In this assignment, you will implement and experiment with one of the first versions of the GCN, proposed by Thomas Kipf and Max Welling in their 2017 paper, [Semi-supervised Classification with Graph Convolutional Networks](https://arxiv.org/abs/1609.02907). In particular, the goals of this assignment are to\n",
    "\n",
    "- Understand how GCNs are formulated\n",
    "- Implement the GCN using PyTorch\n",
    "- Train and evaluate a model for semi-supervised node classification in citation networks\n",
    "- Train and evaluate a model for binary classification of molecules"
   ]
  },
  {
   "cell_type": "markdown",
   "metadata": {
    "id": "RvsuVNczG6pP"
   },
   "source": [
    "### Representing graphs\n",
    "\n",
    "Suppose we have the following graph:\n",
    "\n",
    "<img src=\"https://raw.githubusercontent.com/dfdazac/dlvu-a5/main/img/01-graph.png\" width=\"200\">\n",
    "\n",
    "This is an undirected graph (since the edges have no specified direction) with 4 nodes. One way to represent the connectivity structure of the graph is by means of the **adjacency matrix**. The $i$-th row of the matrix contains a 1 in the $j$-th column, if nodes $i$ and $j$ are connected. For an undirected graph like the one above, this means that the adjacency matrix\n",
    "\n",
    "- Is symmetric (e.g. an edge between 0 and 2 is equivalent as an edge between 2 and 0)\n",
    "- Is square, of size $n\\times n$ where $n$ is the number of nodes\n",
    "\n",
    "The adjacency matrix for the graph above is then the following:\n",
    "\n",
    "$$\n",
    "A =\n",
    "\\begin{bmatrix}\n",
    "0 & 0 & 1 & 0 \\\\\n",
    "0 & 0 & 1 & 0 \\\\\n",
    "1 & 1 & 0 & 1 \\\\\n",
    "0 & 0 & 1 & 0\n",
    "\\end{bmatrix}\n",
    "$$\n",
    "\n",
    "A second matrix of interest is the **degree matrix**. This is a diagonal matrix where the $i$-th element of the diagonal indicates the number of edges connected to node $i$. Note that these can be obtained from $A$ by summing across the columns, or the rows. For our example, the degree matrix is\n",
    "\n",
    "$$\n",
    "D = \\begin{bmatrix}\n",
    "1 & 0 & 0 & 0 \\\\\n",
    "0 & 1 & 0 & 0 \\\\\n",
    "0 & 0 & 3 & 0 \\\\\n",
    "0 & 0 & 0 & 1\n",
    "\\end{bmatrix}\n",
    "$$\n",
    "\n",
    "For specific applications, each node in the graph will have an associated vector of features $x\\in\\mathbb{R}^c$. If our graph is a social network, then the vector of features can contain information like age, location, and musical tastes, in a specific numeric format. In the case of a molecule, the node could represent an atom and have features like the atomic mass, etc. We can lay out the features in a matrix $X\\in\\mathbb{R}^{n\\times c}$, so that the feature vector for node $i$ is in the $i$-th row."
   ]
  },
  {
   "cell_type": "markdown",
   "metadata": {
    "id": "zCEQ2ffzHCf2"
   },
   "source": [
    "### Loading a citation network\n",
    "\n",
    "To move to a real world example, we will start with the Cora dataset. This dataset represents a citation network, where nodes are scientific publications, edges denote citations between them, and features are a [bag-of-words](https://en.wikipedia.org/wiki/Bag-of-words_model) extracted from their contents.\n",
    "\n",
    "This graph contains labels for nodes, that represent a specific topic. We will use these for a node classification task.\n",
    "\n",
    "To easily load it, we will use [PyTorch Geometric](https://pytorch-geometric.readthedocs.io/en/latest/index.html) (PyG), a deep learning library for graph-structured data."
   ]
  },
  {
   "cell_type": "code",
   "execution_count": null,
   "metadata": {
    "colab": {
     "base_uri": "https://localhost:8080/"
    },
    "id": "Yd2bTEBADt-a",
    "outputId": "b76c1c39-7f52-4f34-b794-b3c50c3316a8"
   },
   "outputs": [
    {
     "name": "stdout",
     "output_type": "stream",
     "text": [
      "Looking in links: https://pytorch-geometric.com/whl/torch-2.1.0+cu121.html\n",
      "Collecting torch-scatter\n",
      "  Downloading https://data.pyg.org/whl/torch-2.1.0%2Bcu121/torch_scatter-2.1.2%2Bpt21cu121-cp310-cp310-linux_x86_64.whl (10.8 MB)\n",
      "\u001b[2K     \u001b[90m━━━━━━━━━━━━━━━━━━━━━━━━━━━━━━━━━━━━━━━━\u001b[0m \u001b[32m10.8/10.8 MB\u001b[0m \u001b[31m20.7 MB/s\u001b[0m eta \u001b[36m0:00:00\u001b[0m\n",
      "\u001b[?25hInstalling collected packages: torch-scatter\n",
      "Successfully installed torch-scatter-2.1.2+pt21cu121\n",
      "Looking in links: https://pytorch-geometric.com/whl/torch-2.1.0+cu121.html\n",
      "Collecting torch-sparse\n",
      "  Downloading https://data.pyg.org/whl/torch-2.1.0%2Bcu121/torch_sparse-0.6.18%2Bpt21cu121-cp310-cp310-linux_x86_64.whl (5.0 MB)\n",
      "\u001b[2K     \u001b[90m━━━━━━━━━━━━━━━━━━━━━━━━━━━━━━━━━━━━━━━━\u001b[0m \u001b[32m5.0/5.0 MB\u001b[0m \u001b[31m51.8 MB/s\u001b[0m eta \u001b[36m0:00:00\u001b[0m\n",
      "\u001b[?25hRequirement already satisfied: scipy in /usr/local/lib/python3.10/dist-packages (from torch-sparse) (1.11.4)\n",
      "Requirement already satisfied: numpy<1.28.0,>=1.21.6 in /usr/local/lib/python3.10/dist-packages (from scipy->torch-sparse) (1.23.5)\n",
      "Installing collected packages: torch-sparse\n",
      "Successfully installed torch-sparse-0.6.18+pt21cu121\n",
      "Collecting torch-geometric\n",
      "  Downloading torch_geometric-2.4.0-py3-none-any.whl (1.0 MB)\n",
      "\u001b[2K     \u001b[90m━━━━━━━━━━━━━━━━━━━━━━━━━━━━━━━━━━━━━━━━\u001b[0m \u001b[32m1.0/1.0 MB\u001b[0m \u001b[31m10.4 MB/s\u001b[0m eta \u001b[36m0:00:00\u001b[0m\n",
      "\u001b[?25hRequirement already satisfied: tqdm in /usr/local/lib/python3.10/dist-packages (from torch-geometric) (4.66.1)\n",
      "Requirement already satisfied: numpy in /usr/local/lib/python3.10/dist-packages (from torch-geometric) (1.23.5)\n",
      "Requirement already satisfied: scipy in /usr/local/lib/python3.10/dist-packages (from torch-geometric) (1.11.4)\n",
      "Requirement already satisfied: jinja2 in /usr/local/lib/python3.10/dist-packages (from torch-geometric) (3.1.2)\n",
      "Requirement already satisfied: requests in /usr/local/lib/python3.10/dist-packages (from torch-geometric) (2.31.0)\n",
      "Requirement already satisfied: pyparsing in /usr/local/lib/python3.10/dist-packages (from torch-geometric) (3.1.1)\n",
      "Requirement already satisfied: scikit-learn in /usr/local/lib/python3.10/dist-packages (from torch-geometric) (1.2.2)\n",
      "Requirement already satisfied: psutil>=5.8.0 in /usr/local/lib/python3.10/dist-packages (from torch-geometric) (5.9.5)\n",
      "Requirement already satisfied: MarkupSafe>=2.0 in /usr/local/lib/python3.10/dist-packages (from jinja2->torch-geometric) (2.1.3)\n",
      "Requirement already satisfied: charset-normalizer<4,>=2 in /usr/local/lib/python3.10/dist-packages (from requests->torch-geometric) (3.3.2)\n",
      "Requirement already satisfied: idna<4,>=2.5 in /usr/local/lib/python3.10/dist-packages (from requests->torch-geometric) (3.6)\n",
      "Requirement already satisfied: urllib3<3,>=1.21.1 in /usr/local/lib/python3.10/dist-packages (from requests->torch-geometric) (2.0.7)\n",
      "Requirement already satisfied: certifi>=2017.4.17 in /usr/local/lib/python3.10/dist-packages (from requests->torch-geometric) (2023.11.17)\n",
      "Requirement already satisfied: joblib>=1.1.1 in /usr/local/lib/python3.10/dist-packages (from scikit-learn->torch-geometric) (1.3.2)\n",
      "Requirement already satisfied: threadpoolctl>=2.0.0 in /usr/local/lib/python3.10/dist-packages (from scikit-learn->torch-geometric) (3.2.0)\n",
      "Installing collected packages: torch-geometric\n",
      "Successfully installed torch-geometric-2.4.0\n"
     ]
    }
   ],
   "source": [
    "# Install PyTorch Geometric\n",
    "import torch\n",
    "try:\n",
    "    import torch_geometric\n",
    "except ModuleNotFoundError:\n",
    "    # Installing torch geometric packages with specific CUDA+PyTorch version.\n",
    "    # See https://pytorch-geometric.readthedocs.io/en/latest/notes/installation.html for details\n",
    "    TORCH = torch.__version__.split('+')[0]\n",
    "    CUDA = 'cu' + torch.version.cuda.replace('.','')\n",
    "\n",
    "    !pip install torch-scatter     -f https://pytorch-geometric.com/whl/torch-{TORCH}+{CUDA}.html\n",
    "    !pip install torch-sparse      -f https://pytorch-geometric.com/whl/torch-{TORCH}+{CUDA}.html\n",
    "    !pip install torch-geometric\n",
    "    import torch_geometric"
   ]
  },
  {
   "cell_type": "markdown",
   "metadata": {
    "id": "V0Nvh_-qEo1q"
   },
   "source": [
    "We can now use the library to download and import the dataset. Initializing the `Planetoid` class returns a `Dataset` object that can contain multiple graphs. In this task we will only use the `Cora` dataset (the citation network) and hence, we will select only the first element."
   ]
  },
  {
   "cell_type": "code",
   "execution_count": null,
   "metadata": {
    "colab": {
     "base_uri": "https://localhost:8080/"
    },
    "id": "vuOvwhsHD2YK",
    "outputId": "5964820a-9270-4ad0-f139-78ff84ca4bf8"
   },
   "outputs": [
    {
     "name": "stderr",
     "output_type": "stream",
     "text": [
      "Downloading https://github.com/kimiyoung/planetoid/raw/master/data/ind.cora.x\n",
      "Downloading https://github.com/kimiyoung/planetoid/raw/master/data/ind.cora.tx\n",
      "Downloading https://github.com/kimiyoung/planetoid/raw/master/data/ind.cora.allx\n",
      "Downloading https://github.com/kimiyoung/planetoid/raw/master/data/ind.cora.y\n",
      "Downloading https://github.com/kimiyoung/planetoid/raw/master/data/ind.cora.ty\n",
      "Downloading https://github.com/kimiyoung/planetoid/raw/master/data/ind.cora.ally\n",
      "Downloading https://github.com/kimiyoung/planetoid/raw/master/data/ind.cora.graph\n",
      "Downloading https://github.com/kimiyoung/planetoid/raw/master/data/ind.cora.test.index\n",
      "Processing...\n",
      "Done!\n"
     ]
    }
   ],
   "source": [
    "from torch_geometric.datasets import Planetoid\n",
    "data = Planetoid(root='data/Planetoid', name='Cora')[0]"
   ]
  },
  {
   "cell_type": "markdown",
   "metadata": {
    "id": "v4WZkoiHFyZm"
   },
   "source": [
    "The `data` object is an instance of the `Data` class in PyG. Check the [documentation](https://pytorch-geometric.readthedocs.io/en/latest/modules/data.html) and report the following properties of the graph:\n",
    "\n",
    "- Number of nodes\n",
    "- Number of edges\n",
    "- The dimension $c$ of the feature vectors $x\\in\\mathbb{R}^c$\n",
    "- The number of targets for the classification task"
   ]
  },
  {
   "cell_type": "code",
   "execution_count": null,
   "metadata": {
    "colab": {
     "base_uri": "https://localhost:8080/"
    },
    "id": "sjVuGJhlJC_7",
    "outputId": "42919cb0-05cb-41f1-f974-946ae5481e97"
   },
   "outputs": [
    {
     "name": "stdout",
     "output_type": "stream",
     "text": [
      "2708\n",
      "10556\n",
      "1433\n",
      "7\n"
     ]
    }
   ],
   "source": [
    "# Your answer here\n",
    "num_nodes = data.num_nodes\n",
    "num_edges = data.num_edges\n",
    "feature_dim = data.num_node_features\n",
    "num_classes = data.y.max().item() + 1\n",
    "\n",
    "print(num_nodes)\n",
    "print(num_edges)\n",
    "print(feature_dim)\n",
    "print(num_classes)"
   ]
  },
  {
   "cell_type": "markdown",
   "metadata": {
    "id": "G4DrGDAuJ2YO"
   },
   "source": [
    "In PyG, edges are provided in a tensor of shape (2, number of edges). You can access it via `data.edge_index`. Each column in this tensor contains the IDs for two nodes that are connected in the graph.\n",
    "\n",
    "We saw that in an undirected graph, an edge between nodes $i$ and $j$ adds a value of 1 to positions $(i, j)$ and $(j, i)$ of the adjacency matrix. Is this also true for the edge index? That is, if there is an edge $(i, j)$ in `data.edge_index`, is there also an edge for $(j, i)$? This is important to know for the next steps of the implementation."
   ]
  },
  {
   "cell_type": "code",
   "execution_count": null,
   "metadata": {
    "colab": {
     "base_uri": "https://localhost:8080/"
    },
    "id": "jTRfNxibarRZ",
    "outputId": "d589a719-feec-4308-e526-0d422a426fca"
   },
   "outputs": [
    {
     "name": "stdout",
     "output_type": "stream",
     "text": [
      "Is every edge bidirectional? True\n"
     ]
    }
   ],
   "source": [
    "data.edge_index\n",
    "edges = [(data.edge_index[0][i].item(), data.edge_index[1][i].item()) for i in range(data.edge_index.shape[1])]\n",
    "is_bidirectional = all((j,i) in edges for i,j in edges)\n",
    "print(f'Is every edge bidirectional? {is_bidirectional}')"
   ]
  },
  {
   "cell_type": "markdown",
   "metadata": {
    "id": "YOpS3QTYiOqp"
   },
   "source": [
    "In graphs, especially large ones, the adjacency matrix is **sparse**: most entries are zero. Sparse matrices allow for efficient storage and computation.\n",
    "\n",
    "To prepare and pre-process sparse matrices, we will use [`scipy.sparse`](https://docs.scipy.org/doc/scipy/reference/sparse.html). Once the matrices are ready, we will convert them to PyTorch tensors.\n",
    "\n",
    "We will use the [Sparse COO format](https://en.wikipedia.org/wiki/Sparse_matrix#Coordinate_list_(COO)). We encourage you to first get familiar with how it works after continuing with the assignment.\n",
    "\n",
    "- Use the [`scipy.sparse.coo_matrix()`](https://docs.scipy.org/doc/scipy/reference/generated/scipy.sparse.coo_matrix.html) function to build the adjacency matrix. Think of what arguments are needed, and how you can obtain them from the graph data loaded above.\n",
    "- Use the `sum()` method of sparse matrices, together with `scipy.sparse.diags()`, to compute the degree matrix using the definition above.\n",
    "\n",
    "Both resulting matrices must be sparse of type `float32`."
   ]
  },
  {
   "cell_type": "code",
   "execution_count": null,
   "metadata": {
    "colab": {
     "base_uri": "https://localhost:8080/"
    },
    "id": "QC01OjbJs92-",
    "outputId": "b57946a0-fce6-449c-dcde-d42f5ae93e2b"
   },
   "outputs": [
    {
     "name": "stderr",
     "output_type": "stream",
     "text": [
      "<ipython-input-6-11aa73fe5671>:19: UserWarning: Creating a tensor from a list of numpy.ndarrays is extremely slow. Please consider converting the list to a single numpy.ndarray with numpy.array() before converting to a tensor. (Triggered internally at ../torch/csrc/utils/tensor_new.cpp:261.)\n",
      "  adj_matrix_torch = torch.sparse_coo_tensor(torch.LongTensor([adj_matrix.row, adj_matrix.col]),\n"
     ]
    }
   ],
   "source": [
    "# Your answer here\n",
    "import scipy.sparse as sp\n",
    "import numpy as np\n",
    "\n",
    "# adjacency matrix\n",
    "row = data.edge_index[0]\n",
    "col = data.edge_index[1]\n",
    "\n",
    "values = np.ones(row.shape[0],dtype = np.float32)\n",
    "adj_matrix = sp.coo_matrix((values,(row, col)), shape = (data.num_nodes, data.num_nodes), dtype=np.float32)\n",
    "\n",
    "\n",
    "# degree matrix\n",
    "degree = np.array(adj_matrix.sum(axis=1)).flatten()\n",
    "degree_matrix = sp.diags(degree)\n",
    "degree_matrix = degree_matrix.tocoo()\n",
    "\n",
    "# convert to torch tensor\n",
    "adj_matrix_torch = torch.sparse_coo_tensor(torch.LongTensor([adj_matrix.row, adj_matrix.col]),\n",
    "                                           torch.FloatTensor(adj_matrix.data),adj_matrix.shape, dtype = torch.float)\n",
    "degree_matrix_torch = torch.sparse_coo_tensor(torch.LongTensor([degree_matrix.row, degree_matrix.col]),\n",
    "                                              torch.FloatTensor(degree_matrix.data),degree_matrix.shape, dtype = torch.float)"
   ]
  },
  {
   "cell_type": "markdown",
   "metadata": {
    "id": "AIEJyQi2TzyY"
   },
   "source": [
    "You might wonder why we suggest to use a scipy sparse matrix, while also PyTorch supports them. The reason is that in the next step, we will be multiplying two sparse matrices, an operation not supported in PyTorch. PyTorch only allows multiplying a sparse matrix with a dense one, something which we will be doing at a later stage.\n",
    "\n"
   ]
  },
  {
   "cell_type": "markdown",
   "metadata": {
    "id": "YlmzSb0up4LB"
   },
   "source": [
    "### The Graph Convolutional Network\n",
    "\n",
    "The goal of the graph convolution is to take the feature vectors of all nodes $X\\in\\mathbb{R}^{n\\times c}$, and propagate them along the existing edges, to obtain updated representations $Z\\in\\mathbb{R}^{n\\times d}$.\n",
    "\n",
    "\n",
    "The GCN is initially motivated as performing a convolution, similarly as it is done in CNNs for images, for graph-structured data. In Kipf and Welling (2017), a theoretical derivation leads to the following formula:\n",
    "\n",
    "$$\n",
    "Z = \\tilde{D}^{-\\frac{1}{2}}\\tilde{A}\\tilde{D}^{-\\frac{1}{2}}XW\n",
    "$$\n",
    "\n",
    "where\n",
    "\n",
    "- $W\\in\\mathbb{R}^{c\\times d}$ is a matrix of parameters to be learned via gradient descent\n",
    "- $\\tilde{A} = A + I_n$, where $I_n$ is an $n\\times n$ identity matrix\n",
    "- $\\tilde{D}$ is the degree matrix computed with $\\tilde{A}$ as the adjacency matrix\n",
    "\n",
    "If we define $\\hat{A} = \\tilde{D}^{-\\frac{1}{2}}\\tilde{A}\\tilde{D}^{-\\frac{1}{2}}$, the graph convolution can be written as $Z = \\hat{A}XW$."
   ]
  },
  {
   "cell_type": "markdown",
   "metadata": {
    "id": "LL4b-MTvysBp"
   },
   "source": [
    "Given the formula for the GCN, explain why it operates by propagating feature vectors across the graph. To answer this, it might be useful to recall the definitions of the adjacency and degree matrices, and how they are involved in the formula."
   ]
  },
  {
   "cell_type": "markdown",
   "metadata": {
    "id": "Vgx2SkTTyiSN"
   },
   "source": [
    "**Analyse of the adjacency and degree matrices:**\n",
    "\n",
    "Role of the Adjacency matrix:\n",
    "- the adjacency matrix $A$ represents the connections between nodes in the graph. Entry $A_{ij}$ is 1 if there is an edge from node $i$ to node $j$, and 0 otherwise.\n",
    "- By adding the identity matrix $I_n$ to form $\\tilde{A}$, self-loop are introduced, allowing each node to consider its own features along with its neighbours'.\n",
    "\n",
    "Role of the degree matrix:\n",
    "- The degree matrix $\\tilde{D}$ is diagonal, where each entry $\\tilde{D_{ii}}$ represents the number of edges connected to node i, self-loop is included.\n",
    "- The normalization $\\hat{A} = \\tilde{D}^{-\\frac{1}{2}}\\tilde{A}\\tilde{D}^{-\\frac{1}{2}}$ ensure that the influence of a node's feature vector is scaled inversely by its degree. This prevents node with high degree from high disproportionately large influences.\n",
    "\n",
    "**Feature vector propogation**\n",
    "- Multiplying $\\hat{A}$ with the Multiplying $X$ effectively propagates and aggregates features across the edges of the graph. For a node $i$ this operation computes a weighted sum of the features of its neighbors (and itself, due to self-loops), where the weights are determined by the normalized adjacency matrix.\n",
    "- The result of $\\hat{A}X$ is a new feature representation that captures not just the individual node's features but also incorporates information from its immediate graph neighborhood.\n",
    "\n",
    "**Transformation by Weight Matrix**\n",
    "- Multiplying by $W$ transforms these aggregated features into a new space, as determined by the learnable parameters in $W$. This is analogous to the way weights in a conventional neural network transform input features.\n"
   ]
  },
  {
   "cell_type": "markdown",
   "metadata": {
    "id": "QUGABEqxylsd"
   },
   "source": [
    "Compute the **normalized adjacency matrix** $\\hat{A}$. The result should be a sparse matrix."
   ]
  },
  {
   "cell_type": "code",
   "execution_count": null,
   "metadata": {
    "id": "GPZbnSaSyDzO"
   },
   "outputs": [],
   "source": [
    "# Your answer here\n",
    "n = adj_matrix.shape[0]\n",
    "\n",
    "identity_matrix = sp.eye(adj_matrix.shape[0], dtype=np.float32)\n",
    "tilde_A = adj_matrix + identity_matrix\n",
    "\n",
    "degree = np.array(tilde_A.sum(axis=1)).flatten()\n",
    "tilde_D = sp.diags(np.power(degree,-1/2))\n",
    "\n",
    "hat_A = tilde_D @ tilde_A @tilde_D"
   ]
  },
  {
   "cell_type": "markdown",
   "metadata": {
    "id": "LLLdGdZoMEy-"
   },
   "source": [
    "So far we have used scipy to build and compute sparse matrices. Since we want to train a GCN with PyTorch, we need to convert $\\hat{A}$ into a sparse PyTorch tensor. You can do this with the [`torch.sparse_coo_tensor()`](https://pytorch.org/docs/stable/generated/torch.sparse_coo_tensor.html) function, making sure to specify `torch.float` as the type."
   ]
  },
  {
   "cell_type": "code",
   "execution_count": null,
   "metadata": {
    "id": "dgDsVHzEM32F"
   },
   "outputs": [],
   "source": [
    "# Your answer here\n",
    "hat_A_coo = hat_A.tocoo()\n",
    "hat_A_torch = torch.sparse_coo_tensor(torch.LongTensor([hat_A_coo.row, hat_A_coo.col]),\n",
    "                                      torch.FloatTensor(hat_A_coo.data),hat_A_coo.shape,dtype=torch.float)"
   ]
  },
  {
   "cell_type": "markdown",
   "metadata": {
    "id": "eAlRVT5aODkX"
   },
   "source": [
    "We now have all the ingredients to build a GCN layer. Implement a class (inheriting from `torch.nn.Module`) with a learnable matrix of weights $W\\in\\mathbb{R}^{c\\times d}$. Make sure to\n",
    "\n",
    "- Call this class `GCNLayer`\n",
    "- The `__init__()` constructor should take as argument the number of input and output features.\n",
    "- Use `torch.nn.init.kaiming_uniform_` to initialize $W$.\n",
    "- Define the `forward` method, which takes as input $X$ and $\\hat{A}$ and returns $Z$. Note that multiplications involving the sparse matrix $\\hat{A}$ have to be done with `torch.spmm`.\n",
    "\n",
    "Once you have implemented the class, instantiate a layer with the correct number of input features for the Cora dataset, and a number of output features of your choice. Do a forward pass and report the shape of the output tensor."
   ]
  },
  {
   "cell_type": "code",
   "execution_count": null,
   "metadata": {
    "id": "JFCohhhwPpTT"
   },
   "outputs": [],
   "source": [
    "# Your answer here\n",
    "import torch.nn as nn\n",
    "import torch.nn.functional as F\n",
    "\n",
    "class GCNLayer(nn.Module):\n",
    "  def __init__(self, in_features, out_features):\n",
    "    super(GCNLayer, self).__init__()\n",
    "    self.W = nn.Parameter(torch.Tensor(in_features, out_features))\n",
    "    nn.init.kaiming_uniform_(self.W, a=np.sqrt(5)) #ReLu a = 0, Linear a = sqrt(5)\n",
    "\n",
    "  def forward(self, X, hat_A):\n",
    "    Z = torch.spmm(hat_A, torch.mm(X, self.W))\n",
    "    return Z\n"
   ]
  },
  {
   "cell_type": "code",
   "execution_count": null,
   "metadata": {
    "colab": {
     "base_uri": "https://localhost:8080/"
    },
    "id": "mpCI5-c8tYKy",
    "outputId": "1c60341b-ded3-4f3c-ae23-7909fa59d8a0"
   },
   "outputs": [
    {
     "name": "stdout",
     "output_type": "stream",
     "text": [
      "torch.Size([2708, 16])\n"
     ]
    }
   ],
   "source": [
    "in_features = feature_dim\n",
    "out_features = 16\n",
    "\n",
    "gcn_layer = GCNLayer(in_features, out_features)\n",
    "\n",
    "X = torch.randn(data.num_nodes, in_features)\n",
    "Z = gcn_layer(X, hat_A_torch)\n",
    "\n",
    "print(Z.shape)"
   ]
  },
  {
   "cell_type": "markdown",
   "metadata": {
    "id": "1ptAiizZUKaM"
   },
   "source": [
    "As we have seen so far, the GCN layer implements a special type of linear transformation of the inputs. However, it is often beneficial in deep learning to stack multiple, non-linear transformations of the input features. Implement a second module class for a model with two GCN layers (use the module you implemented in the previous question).\n",
    "\n",
    "- Call this class `GCN`\n",
    "- The constructor must now take as input the number of input features, the output dimension of the first layer (this is the hidden layer), and the output dimension of the output layer.\n",
    "- In the forward pass, add a ReLU activation function after the first layer."
   ]
  },
  {
   "cell_type": "code",
   "execution_count": null,
   "metadata": {
    "id": "2zhyu3S9Vj3b"
   },
   "outputs": [],
   "source": [
    "# Your answer here\n",
    "class GCN(nn.Module):\n",
    "  def __init__(self,in_features, hidden_features, out_features):\n",
    "    super(GCN, self).__init__()\n",
    "    self.gcn1 = GCNLayer(in_features, hidden_features)\n",
    "    self.gcn2 = GCNLayer(hidden_features, out_features)\n",
    "\n",
    "  def forward(self, X, hat_A):\n",
    "    X = F.relu(self.gcn1(X, hat_A))\n",
    "    X = self.gcn2(X, hat_A)\n",
    "    return X"
   ]
  },
  {
   "cell_type": "markdown",
   "metadata": {
    "id": "6NVB-3I5Wfkf"
   },
   "source": [
    "### GCNs for semi-supervised node classification\n",
    "\n",
    "Now that we have a GCN with two layers, we can test its performance in a node classification task. We will pass the input node features $X$ through the GCN layers, and the output will be of size $n\\times k$ where $k$ is the number of classes (which you found in question 1). The label denotes the topic an article in the citation network belongs to (e.g. physics, computer science, etc.)."
   ]
  },
  {
   "cell_type": "markdown",
   "metadata": {
    "id": "trc4dSa7cuQj"
   },
   "source": [
    "Note that the `data` object contains all labels (for all splits) in `data.y`, and binary masks for the train, validation, and test splits in `data.train_mask`, `data.val_mask`, and `data.test_mask`, respectively. These masks are the same size as `data.y`, and indicate which labels belong to which split.\n",
    "\n",
    "- Create a GCN with two layers (using the class from the previous question), with 32 as the hidden dimension, and the number of output features equal to the number of classes in the Cora dataset.\n",
    "\n",
    "- Use the Adam optimizer with a learning rate of 0.01.\n",
    "\n",
    "- Implement a training loop for the GCN. At each step, pass $X$ and $\\hat{A}$ to the GCN to obtain the logits. Compute the mean cross-entropy loss **only for the training instances**, using the binary masks.\n",
    "\n",
    "- After each training step, evaluate the accuracy for the validation instances.\n",
    "\n",
    "- Train for 100 epochs. Once training is finished, plot the training loss and validation accuracy (in a graph in function of the epoch number), and report the accuracy in the test set.\n",
    "\n",
    "You should obtain an accuracy over 75% on both the validation and test sets. You can also compare your results with the original paper, which also contains results for the Cora dataset. Give a brief discussion on the results of your experiments.\n",
    "\n",
    "Note that in contrast with other tasks, like image classification on some datasets, we don't use mini-batches here. The whole matrix of features and the adjacency is passed to the GCN in one step."
   ]
  },
  {
   "cell_type": "code",
   "execution_count": null,
   "metadata": {
    "colab": {
     "base_uri": "https://localhost:8080/",
     "height": 521
    },
    "id": "5Z2OP_ZRWlmo",
    "outputId": "8c2426ed-8a5e-468d-ab75-9d0263b8e466"
   },
   "outputs": [
    {
     "data": {
      "image/png": "[encoded data removed]",
      "text/plain": [
       "<Figure size 1200x500 with 2 Axes>"
      ]
     },
     "metadata": {},
     "output_type": "display_data"
    },
    {
     "name": "stdout",
     "output_type": "stream",
     "text": [
      "The Validation Accuracy in 100th epoch is: 0.772\n",
      "Test Accuracy: 0.782\n"
     ]
    }
   ],
   "source": [
    "# Your answer here\n",
    "import torch.optim as optim\n",
    "import matplotlib.pyplot as plt\n",
    "\n",
    "device = torch.device('cuda' if torch.cuda.is_available() else 'cpu')\n",
    "\n",
    "model = GCN(in_features=data.num_node_features, hidden_features=32, out_features=num_classes)\n",
    "model.to(device)\n",
    "\n",
    "optimizer = optim.Adam(model.parameters(),lr=0.01)\n",
    "\n",
    "X = data.x.to(device)\n",
    "hat_A = hat_A_torch.to(device)\n",
    "\n",
    "train_losses = []\n",
    "val_acc = []\n",
    "\n",
    "for epoch in range(100):\n",
    "  model.train()\n",
    "  optimizer.zero_grad()\n",
    "\n",
    "  # forward\n",
    "  logits = model(X, hat_A)\n",
    "\n",
    "  # loss\n",
    "  loss = F.cross_entropy(logits[data.train_mask], data.y[data.train_mask].to(device))\n",
    "  train_losses.append(loss.item())\n",
    "\n",
    "  # backward\n",
    "  loss.backward()\n",
    "  optimizer.step()\n",
    "\n",
    "  # evaluation on val\n",
    "  model.eval()\n",
    "  with torch.no_grad():\n",
    "    _, predicted = torch.max(logits[data.val_mask], 1)\n",
    "    correct = (predicted == data.y[data.val_mask].to(device)).sum().item()\n",
    "    val_accuracy = correct / data.val_mask.sum().item()\n",
    "    val_acc.append(val_accuracy)\n",
    "\n",
    "\n",
    "# Plot training loss and validation accuracy\n",
    "plt.figure(figsize=(12, 5))\n",
    "plt.subplot(1, 2, 1)\n",
    "plt.plot(train_losses, label='Training Loss')\n",
    "plt.xlabel('Epoch')\n",
    "plt.ylabel('Loss')\n",
    "plt.title('Training Loss')\n",
    "plt.legend()\n",
    "\n",
    "plt.subplot(1, 2, 2)\n",
    "plt.plot(val_acc, label='Validation Accuracy')\n",
    "plt.xlabel('Epoch')\n",
    "plt.ylabel('Accuracy')\n",
    "plt.title('Validation Accuracy')\n",
    "plt.legend()\n",
    "plt.show()\n",
    "\n",
    "print(f'The Validation Accuracy in 100th epoch is: {val_acc[-1]}')\n",
    "\n",
    "# evaluation on test\n",
    "with torch.no_grad():\n",
    "  test = model(X, hat_A)\n",
    "  _, predicted_test = torch.max(test[data.test_mask], 1)\n",
    "  correct_test = (predicted_test == data.y[data.test_mask].to(device)).sum().item()\n",
    "  test_accuracy = correct_test / data.test_mask.sum().item()\n",
    "  print(f'Test Accuracy: {test_accuracy}')\n"
   ]
  },
  {
   "cell_type": "markdown",
   "metadata": {
    "id": "enc36CFEgR9y"
   },
   "source": [
    "Training Loss: The model's training loss decreased significantly, indicating effective learning.\n",
    "\n",
    "Validation Accuracy: The accuracy reached a plateau early, suggesting that additional epochs did not contribute significantly to further learning.\n",
    "\n",
    "Test Accuracy: At 78.4%, the model shows good generalization from training to unseen data.\n",
    "\n",
    "Original GCN Paper: The paper reported a test accuracy of 81.5% for their GCN model and 80.1% ± 0.5 for GCN with random splits​. Model performs slightly below the reported results in the original paper. This could be due to several factors, such as differences in model initialization, variations in the dataset split, or hyperparameter settings.\n",
    "\n",
    "Overall Performance: The model performed well, achieving over 75% accuracy, aligning with the expectation set by the original paper's benchmarks."
   ]
  },
  {
   "cell_type": "markdown",
   "metadata": {
    "id": "vb5YjHVClCqo"
   },
   "source": [
    "The paper introduces GCNs as a way to solve a *semi-supervised* classification problem.\n",
    "\n",
    "- What makes this problem semi-supervised?\n",
    "- What is the proportion of labeled data used for training with respect to labeled data in the validation and test sets? What is difference in this context with other benchmark tasks in machine learning, like image classification with MNIST?\n",
    "- Why do you think the GCN performs well in this semi-supervised scenario?"
   ]
  },
  {
   "cell_type": "markdown",
   "metadata": {
    "id": "gycklhq9y407"
   },
   "source": [
    "ANSWERS:\n",
    "- What makes the problem semi-supervised is that the dataset used for training\n",
    "contains both labeled and unlabeled data. The GCN leverages the labeled nodes (which are few) to learn a function that predicts labels for the unlabeled nodes, which are more numerous.\n",
    "\n",
    "- The proportion of labeled data used for training with respect to labeled\n",
    "data in the validation and test sets is 0.093. The calculation is shown\n",
    "in the block below. This is quite different with other benchmark tasks\n",
    "in machine learning, as this proportion would be much higher in other\n",
    "tasks: for example, MNIST is fully labeled, and models are trained on a larger set of labeled instances, whereas in semi-supervised scenarios like the Cora dataset, the model must learn from a much smaller labeled set and generalize to unlabeled data.\n",
    "\n",
    "- GCN, performing on graph-structured data, allows the model to aggregate\n",
    "information from neighboring nodes, capturing the local graph structure\n",
    "and relationships. The parameter sharing of GCN also contributes to its\n",
    "generalization ability in semi-supervised learning scenario."
   ]
  },
  {
   "cell_type": "code",
   "execution_count": null,
   "metadata": {
    "colab": {
     "base_uri": "https://localhost:8080/"
    },
    "id": "7qw58r1MmCUJ",
    "outputId": "a54b9b33-f311-45e1-f1b2-9f7de4afdace"
   },
   "outputs": [
    {
     "data": {
      "text/plain": [
       "0.09333333373069763"
      ]
     },
     "execution_count": 13,
     "metadata": {},
     "output_type": "execute_result"
    }
   ],
   "source": [
    "# Your answer here\n",
    "(sum(data.train_mask)/(sum(data.val_mask)+sum(data.test_mask))).item()"
   ]
  },
  {
   "cell_type": "markdown",
   "metadata": {
    "id": "4ihrjZddvz5d"
   },
   "source": [
    "### Loading a dataset of proteins\n",
    "\n",
    "In the previous sections you learned how to pass the adjacency matrix of a graph with a couple of thousand of nodes, to classify each node with a particular label. A different and useful application of GCNs is graph classification.\n",
    "\n",
    "In contrast with the previous part, where there was a single, big graph, in graph classification we have multiple graphs, and each graph can be assigned a label. In this part of the assignment you will implement a classifier for proteins.\n",
    "\n",
    "[Proteins](https://en.wikipedia.org/wiki/Protein_(nutrient)) are parts of the buildings block of life. They consist of chains of amino acids, and can take many shapes. In the PROTEINS dataset, proteins are represented as graphs, where the nodes are amino acids, and an edge between them indicates that they are 6 [Angstroms](https://en.wikipedia.org/wiki/Angstrom) apart. All graphs have a binary label, where 1 means that the protein is not an enzyme.\n",
    "\n",
    "We will start by loading and examining this dataset."
   ]
  },
  {
   "cell_type": "code",
   "execution_count": null,
   "metadata": {
    "colab": {
     "base_uri": "https://localhost:8080/"
    },
    "id": "xmqweMcvnUH6",
    "outputId": "9156b327-1ecc-4683-841f-4851908b384a"
   },
   "outputs": [
    {
     "name": "stderr",
     "output_type": "stream",
     "text": [
      "Downloading https://www.chrsmrrs.com/graphkerneldatasets/PROTEINS.zip\n",
      "Extracting data/TU/PROTEINS/PROTEINS.zip\n",
      "Processing...\n",
      "Done!\n"
     ]
    }
   ],
   "source": [
    "from torch_geometric.datasets import TUDataset\n",
    "dataset = TUDataset(root='data/TU', name='PROTEINS', use_node_attr=True)"
   ]
  },
  {
   "cell_type": "markdown",
   "metadata": {
    "id": "_oF1gyKPXiz-"
   },
   "source": [
    "Unlike in the previous part, where we selected the first element returned by the loading function, note that here we get all the elements returned by `TUDataset()`. `dataset` is an interable object, that has some similar behaviors as a Python list: you can call `len()` on it, and you can takes slices from it.\n",
    "\n",
    "Each element in `dataset` is a `Data` object containing a graph that represents a protein. This is the same type of object that we used in the previous part to store the Cora citation network.\n",
    "\n",
    "Knowing this, answer the following:\n",
    "\n",
    "- How many proteins (graphs) are there in `dataset`?\n",
    "- Take any protein from `dataset`. How many nodes and edges does it contain? What is its label? How many features does each node have?"
   ]
  },
  {
   "cell_type": "code",
   "execution_count": null,
   "metadata": {
    "colab": {
     "base_uri": "https://localhost:8080/"
    },
    "id": "ZNPsnXXbbHHe",
    "outputId": "c8669dec-a39f-4e26-95c9-a425f06f6059"
   },
   "outputs": [
    {
     "name": "stdout",
     "output_type": "stream",
     "text": [
      "1113\n",
      "336\n",
      "1632\n",
      "0\n",
      "4\n"
     ]
    }
   ],
   "source": [
    "# Your answer here\n",
    "num_graphs = len(dataset)\n",
    "num_nodes = dataset[5].num_nodes\n",
    "num_edges = dataset[5].num_edges\n",
    "label = dataset[5].y.item()\n",
    "feature_dim = dataset[5].num_node_features\n",
    "\n",
    "\n",
    "print(num_graphs)\n",
    "print(num_nodes)\n",
    "print(num_edges)\n",
    "print(label)\n",
    "print(feature_dim)"
   ]
  },
  {
   "cell_type": "markdown",
   "metadata": {
    "id": "kHSklBZXpKpR"
   },
   "source": [
    "To properly train and evaluate our model, we need training, validation, and test splits.\n",
    "\n",
    "For reproducibility purposes, we generate a random tensor of indices for you. Use it to extract the three splits from `dataset`.\n",
    "\n",
    "For training, take 80% of the indices (starting from the first element in `indices`), then the following 10% for validation, and the remaining 10% for testing. You can use the indices to index `dataset`.\n",
    "\n",
    "Call the resulting splits `train_dataset`, `valid_dataset`, and `test_dataset`."
   ]
  },
  {
   "cell_type": "code",
   "execution_count": null,
   "metadata": {
    "id": "ttY4d1GInn08"
   },
   "outputs": [],
   "source": [
    "# Don't erase the following three lines\n",
    "import torch\n",
    "torch.random.manual_seed(0)\n",
    "indices = torch.randperm(len(dataset))\n",
    "\n",
    "# Your answer here\n",
    "num_train = int(0.8 * len(dataset))\n",
    "num_val = int(0.1 * len(dataset))\n",
    "num_test = len(dataset) - num_train - num_val\n",
    "\n",
    "\n",
    "train_dataset = dataset[indices[:num_train]]\n",
    "valid_dataset = dataset[indices[num_train: (num_train + num_val)]]\n",
    "test_dataset = dataset[indices[(num_train + num_val) :]]"
   ]
  },
  {
   "cell_type": "markdown",
   "metadata": {
    "id": "rDJbB4CQqsfp"
   },
   "source": [
    "### Working with a batch of graphs\n",
    "\n",
    "When working with the Cora dataset, you used the information in `data.edge_index` to build the sparse normalized adjacency matrix $\\hat{A}$ that is required by the GCN. We could do something similar here: for each graph, we build $\\hat{A}$, and pass it to the GCN. However, if the number of graphs is big, this can really slow down training.\n",
    "\n",
    "To avoid this, we will resort to a very useful trick that also allows us to reuse the same GCN you implemented previously. The trick makes it possible to do a forward pass through the GCN for multiple, disconnected graphs at the same time (instead of only one), much like when you train with mini-batches for other kinds of data.\n",
    "\n",
    "Let's first revisit the propagation rule of the GCN, $Z = \\hat{A}XW$, with an illustration (we have omitted the cells of $X$ and $W$ for clarity):\n",
    "\n",
    "<img src=\"https://raw.githubusercontent.com/dfdazac/dlvu-a5/main/img/02-gcn-forward.png\">\n",
    "\n",
    "If we have multiple graphs, we can still use the same propagation rule, if we\n",
    "\n",
    "- Set $\\hat{A}$ to be a block diagonal matrix, where the blocks are the different adjacency matrices of the graphs\n",
    "- Concatenate the feature matrices along the first dimension\n",
    "\n",
    "This is illustrated in the following figure, for a batch of 3 graphs. Note that the elements outside of the blocks are zero.\n",
    "\n",
    "<img src=\"https://raw.githubusercontent.com/dfdazac/dlvu-a5/main/img/02-gcn-batch-forward.png\">\n",
    "\n",
    "The resulting adjacency matrix $\\hat{A}_B$ can also be built as a sparse matrix, and once we have it together with the concatenated matrix of features, the computation of the graph convolution is exactly the same as before. Note how this trick also allows us to process graphs with different sizes and structures.\n"
   ]
  },
  {
   "cell_type": "markdown",
   "metadata": {
    "id": "0DLPJ62b2mQ6"
   },
   "source": [
    "Just as the citation network, the graphs in each of the datasets you created in Question 12 also have an `edge_index` attribute, which can be used to compute the normalized adjacency matrix $\\hat{A}$, for each graph.\n",
    "\n",
    "Reusing your code for Questions 3 and 5, define a function `get_a_norm()` that takes as input an element of a dataset (e.g. `train_dataset[0]`), and returns a `scipy.sparse` matrix containing $\\hat{A}$.\n",
    "\n",
    "Note that an element of a dataset has properties like `num_edges`, `num_nodes`, etc. which you can use here."
   ]
  },
  {
   "cell_type": "code",
   "execution_count": null,
   "metadata": {
    "id": "4nvPX2GB8oXp"
   },
   "outputs": [],
   "source": [
    "# Your answer here\n",
    "\n",
    "def get_a_norm(data):\n",
    "  edge_index = data.edge_index.numpy()\n",
    "  num_nodes = data.num_nodes\n",
    "\n",
    "  row, col = edge_index\n",
    "  values = np.ones(row.shape[0], dtype = np.float32)\n",
    "  adj_matrix = sp.coo_matrix((values, (row, col)), (num_nodes, num_nodes), dtype = np.float32)\n",
    "\n",
    "  adj_matrix = adj_matrix +sp.eye(num_nodes, dtype = np.float32)\n",
    "\n",
    "  degree = np.array(adj_matrix.sum(axis = 1)).flatten()\n",
    "  degree_matrix = sp.diags(np.power(degree, -0.5))\n",
    "\n",
    "  hat_A = degree_matrix @ adj_matrix @ degree_matrix\n",
    "  hat_A = hat_A.tocoo()\n",
    "\n",
    "  return hat_A"
   ]
  },
  {
   "cell_type": "markdown",
   "metadata": {
    "id": "cBrmYBY3AfhW"
   },
   "source": [
    "To prepare the batch of graphs, we need to collect multiple adjacency matrices, feature matrices, and labels.\n",
    "\n",
    "When using the trick described in the last figure, we see that we have to keep track of when a graph starts and when it ends, so that we can later differentiate the outputs due to $X^{(0)}$, $X^{(1)}$, etc. To achieve this, we will additionally collect a 1D array of batch indices, one for each $X^{(i)}$.\n",
    "\n",
    "The 1D array has as many elements as rows in $X^{(i)}$, and it is filled with the value $i$ (the position of $X^{(i)}$ in the batch):\n",
    "\n",
    "<img src=\"https://raw.githubusercontent.com/dfdazac/dlvu-a5/main/img/03-batch-indices.png\">\n",
    "\n",
    "We will later concatenate all the 1D arrays along the first dimension, just as we will do with all the $X^{(i)}$.\n",
    "\n",
    "Define a function `prepare_graphs_batch()` that takes as input a dataset (e.g. `train_dataset`), and does the following\n",
    "\n",
    "- Create four empty lists:\n",
    "  - `adj_matrices`\n",
    "  - `feature_matrices`\n",
    "  - `batch_indices`\n",
    "  - `labels`\n",
    "- Iterate over the input dataset, getting one graph at a time. At each step, use your function from Question 13 to append the adjacency matrix to `adj_matrices`, append the matrix of input features to `feature_matrices`, create the array of batch indices (as explained above) and append it to `batch_indices`, and append the label of the graph to `labels`. **Make sure to convert the label to float**.\n",
    "- Once the loop is over, use `scipy.sparse.block_diag()` to build the block diagonal matrix $\\hat{A}_B$. Convert it to the COO format, and then use your answer to Question 6 to turn it into a sparse PyTorch tensor.\n",
    "- Use `torch.cat()` to concatenate the tensors in `feature_matrices` along the first dimension. Do this also for `batch_indices` and `labels`.\n",
    "- Return the 4 tensors computed in the previous two items."
   ]
  },
  {
   "cell_type": "code",
   "execution_count": null,
   "metadata": {
    "id": "SsQ0-JjSqFgD"
   },
   "outputs": [],
   "source": [
    "# Your answer here\n",
    "def prepare_graphs_batch(dataset):\n",
    "  adj_matrices = []\n",
    "  feature_matrices = []\n",
    "  batch_indices =[]\n",
    "  labels = []\n",
    "\n",
    "  for i, data in enumerate(dataset):\n",
    "    adj_matrices.append (get_a_norm(data))\n",
    "    feature_matrices.append(data.x)\n",
    "    batch_indices.append(torch.full((data.num_nodes,),i,dtype=torch.long))\n",
    "    labels.append(data.y.float())\n",
    "\n",
    "  hat = sp.block_diag(adj_matrices, format = 'coo')\n",
    "  hat_A_B = torch.sparse_coo_tensor(torch.LongTensor([hat.row, hat.col]),\n",
    "                                    torch.FloatTensor(hat.data),hat.shape, dtype=torch.float)\n",
    "\n",
    "  X_batch = torch.cat(feature_matrices, dim = 0)\n",
    "  batch_indices_batch = torch.cat(batch_indices, dim=0)\n",
    "  labels_batch = torch.cat(labels, dim = 0)\n",
    "\n",
    "  return hat_A_B, X_batch, batch_indices_batch, labels_batch\n"
   ]
  },
  {
   "cell_type": "markdown",
   "metadata": {
    "id": "i73P_EU0MSPX"
   },
   "source": [
    "Once your answer for the previous question is ready, you can run the next cell to prepare all the required information, for the train, validation, and test splits."
   ]
  },
  {
   "cell_type": "code",
   "execution_count": null,
   "metadata": {
    "id": "Iol5FxJGMmAU"
   },
   "outputs": [],
   "source": [
    "train_a_norm, train_features, train_batch_idx, train_labels = prepare_graphs_batch(train_dataset)\n",
    "valid_a_norm, valid_features, valid_batch_idx, valid_labels = prepare_graphs_batch(valid_dataset)\n",
    "test_a_norm, test_features, test_batch_idx, test_labels = prepare_graphs_batch(test_dataset)"
   ]
  },
  {
   "cell_type": "markdown",
   "metadata": {
    "id": "R6q-JU87NClh"
   },
   "source": [
    "### GCNs for graph classification\n",
    "\n",
    "We now have all the ingredients to pass a batch of graphs to a GCN. However, for each graph in the batch, the output $Z^{(i)}$ contains one row for each node in the graph. If the goal is to do classification at the graph level, we have to *pool* these vectors to then compute the required logits for classification.\n",
    "\n",
    "This operation is similar as how pooling works in a CNN. We could consider taking the mean of the vectors, the sum, or use max-pooling. The difference with respect to CNNs is that in our case, we have a batch of graphs, each potentially with a different number of nodes.\n",
    "\n",
    "To implement this specific pooling, we can use the scatter operation in the `torch_scatter` library, which comes when installing PyG. We will use it, together with the tensor of batch indices from the previous two questions, to pool the outputs of the GCN for each graph, into a single vector:\n",
    "\n",
    "<img src=\"https://raw.githubusercontent.com/dfdazac/dlvu-a5/main/img/04-scatter.png\">\n",
    "\n",
    "You can check more details in the [documentation](https://pytorch-scatter.readthedocs.io/en/latest/functions/scatter.html)."
   ]
  },
  {
   "cell_type": "markdown",
   "metadata": {
    "id": "QY87DX1uRhnY"
   },
   "source": [
    "Implement a `GraphClassifier` module using PyTorch.\n",
    "\n",
    "- The constructor should take as arguments the number of input features, the hidden dimension, and the number of classes.\n",
    "- The model should contain a instance of the `GCN` module (as you implemented it in Question 8). Use the same value for the hidden dimension and the number of output features (recall that your `GCN` module from Question 8 has two GCN layers).\n",
    "- The model should also contain a `torch.nn.Linear` layer, with the hidden dimension as the input features, and the number of classes as the output.\n",
    "- The forward method receives the concatenated matrix of features, the sparse block diagonal adjacency matrix, and the batch indices (the latter is used when calling `scatter`).\n",
    "- Use the following architecture in the forward pass:\n",
    "  - GCN $\\to$ ReLU $\\to$ scatter (max) $\\to$ Linear.\n",
    "\n",
    "The output of the forward should be a 1D tensor (you might need to call `squeeze` to get rid of extra dimensions) containing the logits for all graphs in the batch, for the binary classification task."
   ]
  },
  {
   "cell_type": "code",
   "execution_count": null,
   "metadata": {
    "id": "750WraywwYDH"
   },
   "outputs": [],
   "source": [
    "# Your answer here\n",
    "from torch_scatter import scatter_max\n",
    "\n",
    "class GraphClassifier(nn.Module):\n",
    "  def __init__(self, num_input_features, hidden_dim, num_classes):\n",
    "    super(GraphClassifier, self).__init__()\n",
    "    self.gcn = GCN(num_input_features, hidden_dim, hidden_dim)\n",
    "    self.classifier = nn.Linear(hidden_dim, num_classes)\n",
    "\n",
    "\n",
    "  def forward(self, x, adj_matrix, batch_indices):\n",
    "    z = self.gcn(x, adj_matrix)\n",
    "    z = F.relu(z)\n",
    "    z_pooled, _ = scatter_max(z, batch_indices, dim=0)\n",
    "    logits = self.classifier(z_pooled)\n",
    "    return logits.squeeze()\n"
   ]
  },
  {
   "cell_type": "markdown",
   "metadata": {
    "id": "h0QHnn6dV87J"
   },
   "source": [
    "\n",
    "\n"
   ]
  },
  {
   "cell_type": "markdown",
   "metadata": {
    "id": "C1PHy-_vTjgh"
   },
   "source": [
    "Implement a training loop for the graph classifier. Use the data from Question 14 to train and evaluate the model.\n",
    "\n",
    "We encourage you to use a GPU in this section for faster training. Note that if you change the runtime at this point, you must re-execute several of the cells above, including the ones that install PyG.\n",
    "\n",
    "- Instantiate a classifier with 32 as the hidden dimension\n",
    "- Use Adam with a learning rate of 1e-3.\n",
    "- Use `torch.nn.BCEWithLogitsLoss` as the loss function.\n",
    "- Train for 5,000 epochs. Once training is done, plot the loss curve and the accuracy in the validation set. Then report the accuracy in the test set.\n",
    "\n",
    "**Note:** the logits from the output of the classifier come from a linear layer. To compute actual predictions for the calculation of the accuracy, pass the logits through `torch.sigmoid()`, and set the predicted values to 1 whenever they are greater than 0.5, and to 0 otherwise.\n",
    "\n",
    "You should get an accuracy equal to or higher than 70% in the validation and test sets. Can you beat the [state-of-the-art](https://paperswithcode.com/sota/graph-classification-on-proteins)? Feel free to modify your architecture and experiment with it.\n",
    "\n",
    "Discuss what you observe during training and your results."
   ]
  },
  {
   "cell_type": "code",
   "execution_count": null,
   "metadata": {
    "colab": {
     "base_uri": "https://localhost:8080/",
     "height": 487
    },
    "id": "9DbGAs8W2Xja",
    "outputId": "bdb8f31a-bd09-4c99-9c9c-128f491e7027"
   },
   "outputs": [
    {
     "data": {
      "image/png": "[encoded data removed]",
      "text/plain": [
       "<Figure size 1200x500 with 2 Axes>"
      ]
     },
     "metadata": {},
     "output_type": "display_data"
    }
   ],
   "source": [
    "# If your runtime is GPU-enabled, use .to(device) to move the model\n",
    "# and all the relevant tensors to the GPU. You have to move tensors back to CPU\n",
    "# when computing metrics like accuracy, using .cpu().\n",
    "device = torch.device('cuda') if torch.cuda.is_available() else 'cpu'\n",
    "\n",
    "num_input_features = train_features.size(1)\n",
    "GCmodel = GraphClassifier(num_input_features, hidden_dim=32, num_classes=1)\n",
    "GCmodel.to(device)\n",
    "\n",
    "optimizer = torch.optim.Adam(GCmodel.parameters(), lr=1e-3)\n",
    "#optimizer = torch.optim.AdamW(GCmodel.parameters(), lr=1e-3, weight_decay=1e-1)\n",
    "criterion = torch.nn.BCEWithLogitsLoss()\n",
    "\n",
    "\n",
    "train_losses = []\n",
    "val_accuracies = []\n",
    "for epoch in range(5000):\n",
    "  GCmodel.train()\n",
    "  optimizer.zero_grad()\n",
    "\n",
    "  # Forward pass\n",
    "  logits = GCmodel(train_features.to(device), train_a_norm.to(device), train_batch_idx.to(device))\n",
    "  #logits = F.dropout(logits, p=0.2, training=GCmodel.training)\n",
    "  loss = criterion(logits, train_labels.to(device))\n",
    "  train_losses.append(loss.item())\n",
    "\n",
    "  # Backward and optimize\n",
    "  loss.backward()\n",
    "  optimizer.step()\n",
    "\n",
    "  # Validation\n",
    "  GCmodel.eval()\n",
    "  with torch.no_grad():\n",
    "    logits_val = GCmodel(valid_features.to(device), valid_a_norm.to(device), valid_batch_idx.to(device))\n",
    "    preds_val = torch.sigmoid(logits_val).cpu() > 0.5\n",
    "    correct_val = (preds_val == valid_labels.cpu()).sum().item()\n",
    "    val_accuracy = correct_val / len(valid_labels)\n",
    "    val_accuracies.append(val_accuracy)\n",
    "\n",
    "plt.figure(figsize=(12, 5))\n",
    "plt.subplot(1, 2, 1)\n",
    "plt.plot(train_losses, label='Training Loss')\n",
    "plt.xlabel('Epoch')\n",
    "plt.ylabel('Loss')\n",
    "plt.title('Training Loss')\n",
    "\n",
    "plt.subplot(1, 2, 2)\n",
    "plt.plot(val_accuracies, label='Validation Accuracy')\n",
    "plt.xlabel('Epoch')\n",
    "plt.ylabel('Accuracy')\n",
    "plt.title('Validation Accuracy')\n",
    "plt.show()"
   ]
  },
  {
   "cell_type": "code",
   "execution_count": null,
   "metadata": {
    "colab": {
     "base_uri": "https://localhost:8080/"
    },
    "id": "Xg0YbGokJyb5",
    "outputId": "85da63a7-c5ac-4b65-cfca-116cc06e42f9"
   },
   "outputs": [
    {
     "name": "stdout",
     "output_type": "stream",
     "text": [
      "Test accuracy: 0.75\n"
     ]
    }
   ],
   "source": [
    "# Test evaluation\n",
    "GCmodel.eval()\n",
    "with torch.no_grad():\n",
    "    logits_test = GCmodel(test_features.to(device), test_a_norm.to(device), test_batch_idx.to(device))\n",
    "    preds_test = torch.sigmoid(logits_test).cpu() > 0.5\n",
    "    correct_test = (preds_test == test_labels.cpu()).sum().item()\n",
    "    test_accuracy = correct_test / len(test_labels)\n",
    "\n",
    "print(\"Test accuracy:\", test_accuracy)\n"
   ]
  },
  {
   "cell_type": "markdown",
   "metadata": {
    "id": "mcde48Vav_jY"
   },
   "source": [
    "- With Dropout (0.2 rate): The test accuracy achieved is 0.741, which is slightly lower than the baseline without additional methods. The training and validation curves show a smoother convergence, indicating that dropout helps in reducing overfitting by regularizing the training process.\n",
    "- With AdamW and Weight Decay (0.1): The test accuracy drops to 0.73, and the curves exhibit a less stable training process with more fluctuations in validation accuracy. The weight decay may be too aggressive, leading to underfitting or instability in training.\n",
    "- With Batch Normalization: The test accuracy further decreases to 0.723. The corresponding training and validation curves show a rapid initial improvement but then plateau, suggesting that while batch normalization helps in faster initial learning, it may not contribute to better generalization in this specific case.\n",
    "- Without Extra Methods: Surprisingly, the test accuracy is highest at 0.75. The training and validation curves show a steep learning curve initially and then stabilize. However, towards the end of training, the validation accuracy starts to decline, hinting at the model beginning to overfit the training data. This suggests that the model's capacity and the complexity of the dataset are well matched, and additional regularization may not be necessary or could be detrimental.\n",
    "\n",
    "In conclusion, while regularization techniques like dropout, weight decay, and batch normalization are often beneficial, they may not always lead to improved performance, especially if the baseline model is already well-tuned to the dataset's complexity."
   ]
  },
  {
   "cell_type": "markdown",
   "metadata": {
    "id": "MvmAfDNMcnKD"
   },
   "source": [
    "## The end\n",
    "\n",
    "If you have made it all the way here successfully, congratulations! 🎉\n",
    "\n",
    "You have implemented your own GCN and tested it on a node classification task, and a more challenging classification task over multiple graphs.\n",
    "\n",
    "We hope you can use this knowledge to apply GCNs not only to the tasks described here, but other applications where data can be modeled as a graph.\n",
    "\n",
    "If you are interested in applying graph neural networks to larger graphs, or try newer architectures, you can dive deeper into [PyTorch Geometric](https://pytorch-geometric.readthedocs.io/en/latest/), a library with fast implementations for a wide range of architectures. It also comes with custom code that takes care of aspects that you dealt with manually for this assignment, like a more efficient implementation of the adjacency matrix multiplication via message-passing methods, and Data Loaders that relieve you from having to build block diagonal sparse matrices.\n",
    "\n",
    "You can also check the [Deep Graph Library](https://docs.dgl.ai/) another powerful library for deep learning on graphs which also integrates with other backends like TensorFlow."
   ]
  }
 ],
 "metadata": {
  "accelerator": "GPU",
  "colab": {
   "collapsed_sections": [
    "LL4b-MTvysBp"
   ],
   "provenance": []
  },
  "kernelspec": {
   "display_name": "Python 3 (ipykernel)",
   "language": "python",
   "name": "python3"
  },
  "language_info": {
   "codemirror_mode": {
    "name": "ipython",
    "version": 3
   },
   "file_extension": ".py",
   "mimetype": "text/x-python",
   "name": "python",
   "nbconvert_exporter": "python",
   "pygments_lexer": "ipython3",
   "version": "3.9.12"
  }
 },
 "nbformat": 4,
 "nbformat_minor": 1
}
